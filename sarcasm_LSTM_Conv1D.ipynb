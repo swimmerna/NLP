{
  "nbformat": 4,
  "nbformat_minor": 0,
  "metadata": {
    "colab": {
      "provenance": []
    },
    "kernelspec": {
      "name": "python3",
      "display_name": "Python 3"
    },
    "language_info": {
      "name": "python"
    }
  },
  "cells": [
    {
      "cell_type": "code",
      "execution_count": 1,
      "metadata": {
        "colab": {
          "base_uri": "https://localhost:8080/"
        },
        "id": "oObk_2QYj3Oc",
        "outputId": "b9e0fafd-fdce-40cf-e72a-8c70bc64a2b4"
      },
      "outputs": [
        {
          "output_type": "stream",
          "name": "stdout",
          "text": [
            "--2024-01-31 22:18:05--  https://storage.googleapis.com/tensorflow-1-public/course3/sarcasm.json\n",
            "Resolving storage.googleapis.com (storage.googleapis.com)... 172.217.204.207, 172.253.123.207, 142.250.98.207, ...\n",
            "Connecting to storage.googleapis.com (storage.googleapis.com)|172.217.204.207|:443... connected.\n",
            "HTTP request sent, awaiting response... 200 OK\n",
            "Length: 5643545 (5.4M) [application/json]\n",
            "Saving to: ‘sarcasm.json’\n",
            "\n",
            "\rsarcasm.json          0%[                    ]       0  --.-KB/s               \rsarcasm.json        100%[===================>]   5.38M  --.-KB/s    in 0.04s   \n",
            "\n",
            "2024-01-31 22:18:05 (126 MB/s) - ‘sarcasm.json’ saved [5643545/5643545]\n",
            "\n"
          ]
        }
      ],
      "source": [
        "!wget https://storage.googleapis.com/tensorflow-1-public/course3/sarcasm.json"
      ]
    },
    {
      "cell_type": "code",
      "source": [
        "import json\n",
        "\n",
        "with open('sarcasm.json') as file:\n",
        "  data = json.load(file)\n",
        "\n",
        "sentences = []\n",
        "labels = []\n",
        "\n",
        "for row in data:\n",
        "  sentences.append(row['headline'])\n",
        "  labels.append(row['is_sarcastic'])\n",
        "\n",
        "print(f'sentences  {len(sentences)} labels {len(labels)}')"
      ],
      "metadata": {
        "colab": {
          "base_uri": "https://localhost:8080/"
        },
        "id": "TXZfm7E1mcJd",
        "outputId": "53292fc3-962d-4ec7-dc16-f3063bb24272"
      },
      "execution_count": 7,
      "outputs": [
        {
          "output_type": "stream",
          "name": "stdout",
          "text": [
            "sentences  26709 labels 26709\n"
          ]
        }
      ]
    },
    {
      "cell_type": "code",
      "source": [
        "split = int(len(labels) * 0.8)\n",
        "train_sentences = sentences[:split]\n",
        "test_sentences = sentences[split:]\n",
        "train_labels = labels[:split]\n",
        "test_labels = labels[split:]\n",
        "\n"
      ],
      "metadata": {
        "id": "yiJ7z3LenL_i"
      },
      "execution_count": 10,
      "outputs": []
    },
    {
      "cell_type": "code",
      "source": [
        "\n",
        "import matplotlib.pyplot as plt\n",
        "\n",
        "def plot_graph(history, string):\n",
        "\n",
        "    plt, axs = plt.subplots(2)\n",
        "    axs[0].plot(history.history['loss'], label=string +'loss')\n",
        "    axs[0].plot(history.history['val_loss'], label= string+'validation loss')\n",
        "    axs[0].legend()\n",
        "    axs[1].plot(history.history['accuracy'], label=string+'accuracy')\n",
        "    axs[1].plot(history.history['val_accuracy'], label=string+'validation accuracy')\n",
        "    axs[1].legend()"
      ],
      "metadata": {
        "id": "7ZX_xxheqoE6"
      },
      "execution_count": 1,
      "outputs": []
    },
    {
      "cell_type": "code",
      "source": [],
      "metadata": {
        "id": "8l4vmFKfqA2q"
      },
      "execution_count": null,
      "outputs": []
    },
    {
      "cell_type": "code",
      "source": [
        "import numpy as np\n",
        "from tensorflow.keras.preprocessing.text import Tokenizer\n",
        "from tensorflow.keras.preprocessing.sequence import pad_sequences\n",
        "\n",
        "vocab_size= 10000\n",
        "max_length= 120\n",
        "trunc_type='post'\n",
        "padding_type='post'\n",
        "oov_tok='<OOV>'\n",
        "\n",
        "tokenizer = Tokenizer(num_words=vocab_size, oov_token=oov_tok)\n",
        "\n",
        "tokenizer.fit_on_texts(train_sentences)\n",
        "word_index = tokenizer.word_index\n",
        "\n",
        "train_sequences = tokenizer.texts_to_sequences(train_sentences)\n",
        "train_padded_sequences =pad_sequences(train_sequences, maxlen=max_length, padding=padding_type, truncating=trunc_type)\n",
        "\n",
        "test_sequences = tokenizer.texts_to_sequences(test_sentences)\n",
        "test_padded_sequences =pad_sequences(test_sequences, maxlen=max_length, padding=padding_type, truncating=trunc_type)\n",
        "\n",
        "train_labels = np.array(train_labels)\n",
        "test_labels = np.array(test_labels)"
      ],
      "metadata": {
        "id": "yuGj_bL6nnF7"
      },
      "execution_count": 14,
      "outputs": []
    },
    {
      "cell_type": "code",
      "source": [
        "import tensorflow as tf"
      ],
      "metadata": {
        "id": "0Qlpny4Qo9oc"
      },
      "execution_count": null,
      "outputs": []
    },
    {
      "cell_type": "code",
      "source": [
        "#lstm\n",
        "\n",
        "embedding_dim_lstm = 16\n",
        "lstm_dim = 16\n",
        "dense_dim = 32\n",
        "\n",
        "model_lstm = tf.keras.models.Sequential([\n",
        "    tf.keras.Emabedding(vocab_size, embedding_dim_lstm, input_length=max_length),\n",
        "    tf.keras.Bidirectional(tf.keras.layers.LSTM(lstm_dim)),\n",
        "    tf.keras.layers.Dense(dense_dim, activation='relu'),\n",
        "    tf.keras.layers.Dense(1, activation='sigmoid')\n",
        "])\n",
        "\n",
        "model_lstm.compile(loss='binary_crossentropy', optimizer='adam', metrics=['accuracy'])\n",
        "model_lstm.summary()\n",
        "\n",
        "epochs_lstm = 10\n",
        "history_lstm = model_lstm.fit(train_padded_sequences, train_labels, epochs=epochs_lstm,\n",
        "                              validation_data=(test_padded_sequences, test_labels))\n",
        "\n",
        "plot_graph(history_lstm, \"lstm\")"
      ],
      "metadata": {
        "id": "MHUH0F26pBaD"
      },
      "execution_count": null,
      "outputs": []
    },
    {
      "cell_type": "code",
      "source": [
        "#Conv\n",
        "\n",
        "embedding_dim_conv = 16\n",
        "filters=64\n",
        "kernel_size=3\n",
        "dense_dim_conv = 32\n",
        "\n",
        "model_conv = tf.keras.models.Sequential([\n",
        "    tf.keras.layers.Embedding(tokenizer.vocab_size, embedding_dim_conv),\n",
        "    tf.keras.layers.Conv1D(filters=filters, kernel_size=kernel_size, activation='relu'),\n",
        "    tf.keras.layers.GlobalMaxPool1D(),\n",
        "    tf.keras.layers.Dense(dense_dim_conv, activation='relu'),\n",
        "    tf.keras.layers.Dense(1, activation='sigmoid')\n",
        "])\n",
        "\n",
        "model_conv.compile(loss='binary_crossentropy', optimizer='adam', metrics=['accuracy'])\n",
        "model_conv.summary()\n",
        "\n",
        "epochs_conv = 10\n",
        "history_conv = model_conv.fit(train_padded_sequences, train_labels, epochs=epochs_conv,\n",
        "                              validation_data=(test_padded_sequences, test_labels))\n",
        "\n",
        "plot_graph(history_conv, \"conv\")"
      ],
      "metadata": {
        "id": "KF-RhXGHqGA2"
      },
      "execution_count": null,
      "outputs": []
    }
  ]
}