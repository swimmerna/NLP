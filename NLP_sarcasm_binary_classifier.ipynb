{
  "nbformat": 4,
  "nbformat_minor": 0,
  "metadata": {
    "colab": {
      "provenance": []
    },
    "kernelspec": {
      "name": "python3",
      "display_name": "Python 3"
    },
    "language_info": {
      "name": "python"
    }
  },
  "cells": [
    {
      "cell_type": "code",
      "execution_count": 2,
      "metadata": {
        "colab": {
          "base_uri": "https://localhost:8080/"
        },
        "id": "kVXr3G5-jlfY",
        "outputId": "cbf3c42a-1f85-4150-e9a1-d0247487fa51"
      },
      "outputs": [
        {
          "output_type": "stream",
          "name": "stdout",
          "text": [
            "--2024-01-30 20:20:21--  https://storage.googleapis.com/tensorflow-1-public/course3/sarcasm.json\n",
            "Resolving storage.googleapis.com (storage.googleapis.com)... 108.177.121.207, 142.250.103.207, 108.177.120.207, ...\n",
            "Connecting to storage.googleapis.com (storage.googleapis.com)|108.177.121.207|:443... connected.\n",
            "HTTP request sent, awaiting response... 200 OK\n",
            "Length: 5643545 (5.4M) [application/json]\n",
            "Saving to: ‘sarcasm.json’\n",
            "\n",
            "\rsarcasm.json          0%[                    ]       0  --.-KB/s               \rsarcasm.json        100%[===================>]   5.38M  --.-KB/s    in 0.03s   \n",
            "\n",
            "2024-01-30 20:20:22 (181 MB/s) - ‘sarcasm.json’ saved [5643545/5643545]\n",
            "\n"
          ]
        }
      ],
      "source": [
        "!wget https://storage.googleapis.com/tensorflow-1-public/course3/sarcasm.json"
      ]
    },
    {
      "cell_type": "code",
      "source": [
        "import json\n",
        "\n",
        "with open('sarcasm.json', 'r') as f:\n",
        "  datastore = json.load(f)\n",
        "\n",
        "sentences=[]\n",
        "labels=[]\n",
        "for item in datastore:\n",
        "  sentences.append(item['headline'])\n",
        "  labels.append(item['is_sarcastic'])"
      ],
      "metadata": {
        "id": "8bTR4AhUj91Y"
      },
      "execution_count": 3,
      "outputs": []
    },
    {
      "cell_type": "code",
      "source": [
        "training_size = 20000\n",
        "# Split the sentences\n",
        "training_sentences = sentences[0:training_size]\n",
        "testing_sentences = sentences[training_size:]\n",
        "\n",
        "# Split the labels\n",
        "training_labels = labels[0:training_size]\n",
        "testing_labels = labels[training_size:]"
      ],
      "metadata": {
        "id": "yzpScfPRk8UG"
      },
      "execution_count": 5,
      "outputs": []
    },
    {
      "cell_type": "code",
      "source": [
        "import numpy as np\n",
        "from tensorflow.keras.preprocessing.text import Tokenizer\n",
        "from tensorflow.keras.preprocessing.sequence import pad_sequences\n",
        "\n",
        "trunc_type = 'post'\n",
        "padding_type = 'post'\n",
        "oov_tok = \"<OOV>\"\n",
        "\n",
        "voc_size = 2000\n",
        "max_length = 30\n",
        "embedding_dim = 16\n",
        "\n",
        "tokenizer = Tokenizer(num_words = voc_size, oov_token=oov_tok)\n",
        "tokenizer.fit_on_texts(training_sentences)\n",
        "word_index = tokenizer.word_index\n",
        "\n",
        "training_sequences = tokenizer.texts_to_sequences(training_sentences)\n",
        "training_padded = pad_sequences(training_sequences, maxlen=max_length, padding=padding_type, truncating=trunc_type)\n",
        "\n",
        "testing_sequences = tokenizer.texts_to_sequences(testing_sentences)\n",
        "testing_padded = pad_sequences(testing_sequences, maxlen=max_length, padding=padding_type, truncating=trunc_type)\n",
        "\n",
        "training_labels = np.array(training_labels)\n",
        "testing_labels = np.array(testing_labels)"
      ],
      "metadata": {
        "id": "5xE_VDBLlVQP"
      },
      "execution_count": 6,
      "outputs": []
    },
    {
      "cell_type": "code",
      "source": [
        "#Build and compile the model\n",
        "#use GlobalAveragePooling1D layer instead of Flatten after Embedding\n",
        "import tensorflow as tf\n",
        "\n",
        "averagePooling = tf.keras.layers.GlobalAveragePooling1D()\n",
        "sample_array = np.array([[[10,2],[1,3],[1,1]]])\n",
        "print(f'sample array shape {sample_array.shape}')\n",
        "print(sample_array)\n",
        "output = averagePooling(sample_array)\n",
        "print(f'sample array shape {output.shape}')\n",
        "print(output)\n"
      ],
      "metadata": {
        "colab": {
          "base_uri": "https://localhost:8080/"
        },
        "id": "ibzi7uNNpH4g",
        "outputId": "d6edf95d-b1d3-450f-f1a8-39b6fc0da65d"
      },
      "execution_count": 7,
      "outputs": [
        {
          "output_type": "stream",
          "name": "stdout",
          "text": [
            "sample array shape (1, 3, 2)\n",
            "[[[10  2]\n",
            "  [ 1  3]\n",
            "  [ 1  1]]]\n",
            "sample array shape (1, 2)\n",
            "tf.Tensor([[4 2]], shape=(1, 2), dtype=int64)\n"
          ]
        }
      ]
    },
    {
      "cell_type": "code",
      "source": [
        "model_flatten = tf.keras.Sequential([\n",
        "    tf.keras.layers.Embedding(voc_size, embedding_dim, input_length=max_length),\n",
        "    tf.keras.layers.Flatten(),\n",
        "    tf.keras.layers.Dense(24, activation='relu'),\n",
        "    tf.keras.layers.Dense(1, activation='sigmoid')\n",
        "])\n",
        "model_flatten.summary()"
      ],
      "metadata": {
        "colab": {
          "base_uri": "https://localhost:8080/"
        },
        "id": "VUJ2dmeFu9FX",
        "outputId": "ff60ded5-1dfa-4cb5-f521-6e0ae7808dd3"
      },
      "execution_count": 8,
      "outputs": [
        {
          "output_type": "stream",
          "name": "stdout",
          "text": [
            "Model: \"sequential\"\n",
            "_________________________________________________________________\n",
            " Layer (type)                Output Shape              Param #   \n",
            "=================================================================\n",
            " embedding (Embedding)       (None, 30, 16)            32000     \n",
            "                                                                 \n",
            " flatten (Flatten)           (None, 480)               0         \n",
            "                                                                 \n",
            " dense (Dense)               (None, 24)                11544     \n",
            "                                                                 \n",
            " dense_1 (Dense)             (None, 1)                 25        \n",
            "                                                                 \n",
            "=================================================================\n",
            "Total params: 43569 (170.19 KB)\n",
            "Trainable params: 43569 (170.19 KB)\n",
            "Non-trainable params: 0 (0.00 Byte)\n",
            "_________________________________________________________________\n"
          ]
        }
      ]
    },
    {
      "cell_type": "code",
      "source": [
        "model = tf.keras.Sequential([\n",
        "    tf.keras.layers.Embedding(voc_size, embedding_dim, input_length=max_length),\n",
        "    tf.keras.layers.GlobalAveragePooling1D(),\n",
        "    tf.keras.layers.Dense(24, activation='relu'),\n",
        "    tf.keras.layers.Dense(1, activation='sigmoid')\n",
        "])\n",
        "model.summary()"
      ],
      "metadata": {
        "colab": {
          "base_uri": "https://localhost:8080/"
        },
        "id": "v-K5RSc8rBPF",
        "outputId": "9e95c88d-6dd8-4420-8211-a18e61306473"
      },
      "execution_count": 9,
      "outputs": [
        {
          "output_type": "stream",
          "name": "stdout",
          "text": [
            "Model: \"sequential_1\"\n",
            "_________________________________________________________________\n",
            " Layer (type)                Output Shape              Param #   \n",
            "=================================================================\n",
            " embedding_1 (Embedding)     (None, 30, 16)            32000     \n",
            "                                                                 \n",
            " global_average_pooling1d_1  (None, 16)                0         \n",
            "  (GlobalAveragePooling1D)                                       \n",
            "                                                                 \n",
            " dense_2 (Dense)             (None, 24)                408       \n",
            "                                                                 \n",
            " dense_3 (Dense)             (None, 1)                 25        \n",
            "                                                                 \n",
            "=================================================================\n",
            "Total params: 32433 (126.69 KB)\n",
            "Trainable params: 32433 (126.69 KB)\n",
            "Non-trainable params: 0 (0.00 Byte)\n",
            "_________________________________________________________________\n"
          ]
        }
      ]
    },
    {
      "cell_type": "code",
      "source": [
        "model.compile(loss='binary_crossentropy', optimizer='adam', metrics=['accuracy'])"
      ],
      "metadata": {
        "id": "fYUAZhacvIyB"
      },
      "execution_count": 10,
      "outputs": []
    },
    {
      "cell_type": "code",
      "source": [
        "num_epochs = 40\n",
        "\n",
        "# Train the model\n",
        "history = model.fit(training_padded, training_labels, epochs=num_epochs,\n",
        "                    validation_data=(testing_padded, testing_labels))"
      ],
      "metadata": {
        "colab": {
          "base_uri": "https://localhost:8080/"
        },
        "id": "bwp54APhvi8N",
        "outputId": "5cee0e3a-bf30-484b-c344-9811b59fee79"
      },
      "execution_count": 11,
      "outputs": [
        {
          "output_type": "stream",
          "name": "stdout",
          "text": [
            "Epoch 1/40\n",
            "625/625 [==============================] - 2s 2ms/step - loss: 0.5712 - accuracy: 0.7014 - val_loss: 0.4211 - val_accuracy: 0.8150\n",
            "Epoch 2/40\n",
            "625/625 [==============================] - 1s 2ms/step - loss: 0.3674 - accuracy: 0.8393 - val_loss: 0.3730 - val_accuracy: 0.8335\n",
            "Epoch 3/40\n",
            "625/625 [==============================] - 1s 1ms/step - loss: 0.3271 - accuracy: 0.8572 - val_loss: 0.3685 - val_accuracy: 0.8302\n",
            "Epoch 4/40\n",
            "625/625 [==============================] - 1s 1ms/step - loss: 0.3101 - accuracy: 0.8641 - val_loss: 0.3706 - val_accuracy: 0.8320\n",
            "Epoch 5/40\n",
            "625/625 [==============================] - 1s 1ms/step - loss: 0.3018 - accuracy: 0.8677 - val_loss: 0.3859 - val_accuracy: 0.8299\n",
            "Epoch 6/40\n",
            "625/625 [==============================] - 1s 1ms/step - loss: 0.2965 - accuracy: 0.8708 - val_loss: 0.3842 - val_accuracy: 0.8299\n",
            "Epoch 7/40\n",
            "625/625 [==============================] - 1s 2ms/step - loss: 0.2926 - accuracy: 0.8717 - val_loss: 0.3904 - val_accuracy: 0.8298\n",
            "Epoch 8/40\n",
            "625/625 [==============================] - 1s 2ms/step - loss: 0.2901 - accuracy: 0.8735 - val_loss: 0.3884 - val_accuracy: 0.8275\n",
            "Epoch 9/40\n",
            "625/625 [==============================] - 1s 2ms/step - loss: 0.2877 - accuracy: 0.8734 - val_loss: 0.3919 - val_accuracy: 0.8271\n",
            "Epoch 10/40\n",
            "625/625 [==============================] - 1s 2ms/step - loss: 0.2867 - accuracy: 0.8748 - val_loss: 0.3940 - val_accuracy: 0.8286\n",
            "Epoch 11/40\n",
            "625/625 [==============================] - 1s 2ms/step - loss: 0.2860 - accuracy: 0.8753 - val_loss: 0.3956 - val_accuracy: 0.8267\n",
            "Epoch 12/40\n",
            "625/625 [==============================] - 1s 1ms/step - loss: 0.2829 - accuracy: 0.8758 - val_loss: 0.3985 - val_accuracy: 0.8272\n",
            "Epoch 13/40\n",
            "625/625 [==============================] - 1s 2ms/step - loss: 0.2811 - accuracy: 0.8763 - val_loss: 0.3984 - val_accuracy: 0.8255\n",
            "Epoch 14/40\n",
            "625/625 [==============================] - 1s 2ms/step - loss: 0.2792 - accuracy: 0.8778 - val_loss: 0.3991 - val_accuracy: 0.8280\n",
            "Epoch 15/40\n",
            "625/625 [==============================] - 1s 2ms/step - loss: 0.2777 - accuracy: 0.8773 - val_loss: 0.3974 - val_accuracy: 0.8277\n",
            "Epoch 16/40\n",
            "625/625 [==============================] - 1s 2ms/step - loss: 0.2759 - accuracy: 0.8799 - val_loss: 0.3959 - val_accuracy: 0.8289\n",
            "Epoch 17/40\n",
            "625/625 [==============================] - 1s 2ms/step - loss: 0.2718 - accuracy: 0.8808 - val_loss: 0.3994 - val_accuracy: 0.8298\n",
            "Epoch 18/40\n",
            "625/625 [==============================] - 1s 1ms/step - loss: 0.2698 - accuracy: 0.8842 - val_loss: 0.3975 - val_accuracy: 0.8301\n",
            "Epoch 19/40\n",
            "625/625 [==============================] - 1s 2ms/step - loss: 0.2662 - accuracy: 0.8848 - val_loss: 0.3978 - val_accuracy: 0.8301\n",
            "Epoch 20/40\n",
            "625/625 [==============================] - 1s 2ms/step - loss: 0.2631 - accuracy: 0.8854 - val_loss: 0.3996 - val_accuracy: 0.8302\n",
            "Epoch 21/40\n",
            "625/625 [==============================] - 1s 2ms/step - loss: 0.2595 - accuracy: 0.8874 - val_loss: 0.4002 - val_accuracy: 0.8319\n",
            "Epoch 22/40\n",
            "625/625 [==============================] - 1s 1ms/step - loss: 0.2571 - accuracy: 0.8899 - val_loss: 0.4047 - val_accuracy: 0.8326\n",
            "Epoch 23/40\n",
            "625/625 [==============================] - 1s 1ms/step - loss: 0.2539 - accuracy: 0.8918 - val_loss: 0.4041 - val_accuracy: 0.8317\n",
            "Epoch 24/40\n",
            "625/625 [==============================] - 1s 1ms/step - loss: 0.2500 - accuracy: 0.8925 - val_loss: 0.4068 - val_accuracy: 0.8325\n",
            "Epoch 25/40\n",
            "625/625 [==============================] - 1s 1ms/step - loss: 0.2471 - accuracy: 0.8949 - val_loss: 0.4187 - val_accuracy: 0.8247\n",
            "Epoch 26/40\n",
            "625/625 [==============================] - 1s 2ms/step - loss: 0.2441 - accuracy: 0.8961 - val_loss: 0.4149 - val_accuracy: 0.8316\n",
            "Epoch 27/40\n",
            "625/625 [==============================] - 1s 2ms/step - loss: 0.2410 - accuracy: 0.8989 - val_loss: 0.4182 - val_accuracy: 0.8308\n",
            "Epoch 28/40\n",
            "625/625 [==============================] - 1s 2ms/step - loss: 0.2381 - accuracy: 0.8998 - val_loss: 0.4290 - val_accuracy: 0.8281\n",
            "Epoch 29/40\n",
            "625/625 [==============================] - 1s 2ms/step - loss: 0.2342 - accuracy: 0.9024 - val_loss: 0.4285 - val_accuracy: 0.8250\n",
            "Epoch 30/40\n",
            "625/625 [==============================] - 1s 2ms/step - loss: 0.2311 - accuracy: 0.9040 - val_loss: 0.4299 - val_accuracy: 0.8304\n",
            "Epoch 31/40\n",
            "625/625 [==============================] - 1s 2ms/step - loss: 0.2291 - accuracy: 0.9043 - val_loss: 0.4435 - val_accuracy: 0.8199\n",
            "Epoch 32/40\n",
            "625/625 [==============================] - 1s 1ms/step - loss: 0.2260 - accuracy: 0.9062 - val_loss: 0.4377 - val_accuracy: 0.8286\n",
            "Epoch 33/40\n",
            "625/625 [==============================] - 1s 2ms/step - loss: 0.2238 - accuracy: 0.9082 - val_loss: 0.4443 - val_accuracy: 0.8277\n",
            "Epoch 34/40\n",
            "625/625 [==============================] - 1s 2ms/step - loss: 0.2210 - accuracy: 0.9094 - val_loss: 0.4485 - val_accuracy: 0.8258\n",
            "Epoch 35/40\n",
            "625/625 [==============================] - 1s 2ms/step - loss: 0.2201 - accuracy: 0.9093 - val_loss: 0.4590 - val_accuracy: 0.8202\n",
            "Epoch 36/40\n",
            "625/625 [==============================] - 1s 2ms/step - loss: 0.2174 - accuracy: 0.9100 - val_loss: 0.4574 - val_accuracy: 0.8226\n",
            "Epoch 37/40\n",
            "625/625 [==============================] - 1s 2ms/step - loss: 0.2156 - accuracy: 0.9110 - val_loss: 0.4594 - val_accuracy: 0.8277\n",
            "Epoch 38/40\n",
            "625/625 [==============================] - 1s 1ms/step - loss: 0.2128 - accuracy: 0.9122 - val_loss: 0.4668 - val_accuracy: 0.8219\n",
            "Epoch 39/40\n",
            "625/625 [==============================] - 1s 2ms/step - loss: 0.2122 - accuracy: 0.9136 - val_loss: 0.4683 - val_accuracy: 0.8222\n",
            "Epoch 40/40\n",
            "625/625 [==============================] - 1s 2ms/step - loss: 0.2103 - accuracy: 0.9154 - val_loss: 0.4793 - val_accuracy: 0.8208\n"
          ]
        }
      ]
    },
    {
      "cell_type": "code",
      "source": [
        "import matplotlib.pyplot as plt\n",
        "fig, axs = plt.subplots(2)\n",
        "plt.figure(figsize=(10,6))\n",
        "axs[0].plot(history.history['loss'], label='loss')\n",
        "axs[0].plot(history.history['val_loss'], label='validation loss')\n",
        "axs[0].legend()\n",
        "axs[1].plot(history.history['accuracy'], label='accuracy')\n",
        "axs[1].plot(history.history['val_accuracy'], label='validation accuracy')\n",
        "axs[1].legend()\n",
        "\n"
      ],
      "metadata": {
        "colab": {
          "base_uri": "https://localhost:8080/",
          "height": 466
        },
        "id": "wAGo5z7T2qt1",
        "outputId": "0738bdbb-4c60-456a-ecba-be598a3b8437"
      },
      "execution_count": 12,
      "outputs": [
        {
          "output_type": "execute_result",
          "data": {
            "text/plain": [
              "<matplotlib.legend.Legend at 0x7858f37755a0>"
            ]
          },
          "metadata": {},
          "execution_count": 12
        },
        {
          "output_type": "display_data",
          "data": {
            "text/plain": [
              "<Figure size 640x480 with 2 Axes>"
            ],
            "image/png": "[encoded data removed]"
          },
          "metadata": {}
        },
        {
          "output_type": "display_data",
          "data": {
            "text/plain": [
              "<Figure size 1000x600 with 0 Axes>"
            ]
          },
          "metadata": {}
        }
      ]
    },
    {
      "cell_type": "code",
      "source": [
        "#visualize word embeddings"
      ],
      "metadata": {
        "id": "w4K40XdGCspi"
      },
      "execution_count": null,
      "outputs": []
    },
    {
      "cell_type": "code",
      "source": [
        "reverse_word_index = tokenizer.index_word\n",
        "\n",
        "embedding_layer = model.layers[0]\n",
        "embedding_weights = embedding_layer.get_weights()[0]\n",
        "print(embedding_weights.shape)\n"
      ],
      "metadata": {
        "colab": {
          "base_uri": "https://localhost:8080/"
        },
        "id": "uKeSYCfSCtFz",
        "outputId": "13ab01bf-45d8-423f-c09e-f557e53f4107"
      },
      "execution_count": 15,
      "outputs": [
        {
          "output_type": "stream",
          "name": "stdout",
          "text": [
            "(2000, 16)\n"
          ]
        }
      ]
    },
    {
      "cell_type": "code",
      "source": [
        "import io\n",
        "\n",
        "out_v = io.open('vecs.tsv', 'w', encoding='utf-8')\n",
        "out_m = io.open('meta.tsv', 'w', encoding='utf-8')\n",
        "\n",
        "for word_num in range(1, voc_size):\n",
        "  word_name = reverse_word_index[word_num]\n",
        "  word_embedding= embedding_weights[word_num]\n",
        "  out_m.write(word_name + \"\\n\")\n",
        "  out_v.write('\\t'.join([str(x) for x in word_embedding]) + \"\\n\")\n",
        "out_v.close()\n",
        "out_m.close()\n",
        "\n",
        "# Import files utilities in Colab\n",
        "try:\n",
        "  from google.colab import files\n",
        "except ImportError:\n",
        "  pass\n",
        "\n",
        "# Download the files\n",
        "else:\n",
        "  files.download('vecs.tsv')\n",
        "  files.download('meta.tsv')\n",
        "\n"
      ],
      "metadata": {
        "colab": {
          "base_uri": "https://localhost:8080/",
          "height": 17
        },
        "id": "psem2GZaCmQs",
        "outputId": "8dd231c3-fe4a-461b-e621-e03e17d460a1"
      },
      "execution_count": 16,
      "outputs": [
        {
          "output_type": "display_data",
          "data": {
            "text/plain": [
              "<IPython.core.display.Javascript object>"
            ],
            "application/javascript": [
              "\n",
              "    async function download(id, filename, size) {\n",
              "      if (!google.colab.kernel.accessAllowed) {\n",
              "        return;\n",
              "      }\n",
              "      const div = document.createElement('div');\n",
              "      const label = document.createElement('label');\n",
              "      label.textContent = `Downloading \"${filename}\": `;\n",
              "      div.appendChild(label);\n",
              "      const progress = document.createElement('progress');\n",
              "      progress.max = size;\n",
              "      div.appendChild(progress);\n",
              "      document.body.appendChild(div);\n",
              "\n",
              "      const buffers = [];\n",
              "      let downloaded = 0;\n",
              "\n",
              "      const channel = await google.colab.kernel.comms.open(id);\n",
              "      // Send a message to notify the kernel that we're ready.\n",
              "      channel.send({})\n",
              "\n",
              "      for await (const message of channel.messages) {\n",
              "        // Send a message to notify the kernel that we're ready.\n",
              "        channel.send({})\n",
              "        if (message.buffers) {\n",
              "          for (const buffer of message.buffers) {\n",
              "            buffers.push(buffer);\n",
              "            downloaded += buffer.byteLength;\n",
              "            progress.value = downloaded;\n",
              "          }\n",
              "        }\n",
              "      }\n",
              "      const blob = new Blob(buffers, {type: 'application/binary'});\n",
              "      const a = document.createElement('a');\n",
              "      a.href = window.URL.createObjectURL(blob);\n",
              "      a.download = filename;\n",
              "      div.appendChild(a);\n",
              "      a.click();\n",
              "      div.remove();\n",
              "    }\n",
              "  "
            ]
          },
          "metadata": {}
        },
        {
          "output_type": "display_data",
          "data": {
            "text/plain": [
              "<IPython.core.display.Javascript object>"
            ],
            "application/javascript": [
              "download(\"download_cbe0c7bb-9218-4683-9664-a60de60d59ce\", \"vecs.tsv\", 366988)"
            ]
          },
          "metadata": {}
        },
        {
          "output_type": "display_data",
          "data": {
            "text/plain": [
              "<IPython.core.display.Javascript object>"
            ],
            "application/javascript": [
              "\n",
              "    async function download(id, filename, size) {\n",
              "      if (!google.colab.kernel.accessAllowed) {\n",
              "        return;\n",
              "      }\n",
              "      const div = document.createElement('div');\n",
              "      const label = document.createElement('label');\n",
              "      label.textContent = `Downloading \"${filename}\": `;\n",
              "      div.appendChild(label);\n",
              "      const progress = document.createElement('progress');\n",
              "      progress.max = size;\n",
              "      div.appendChild(progress);\n",
              "      document.body.appendChild(div);\n",
              "\n",
              "      const buffers = [];\n",
              "      let downloaded = 0;\n",
              "\n",
              "      const channel = await google.colab.kernel.comms.open(id);\n",
              "      // Send a message to notify the kernel that we're ready.\n",
              "      channel.send({})\n",
              "\n",
              "      for await (const message of channel.messages) {\n",
              "        // Send a message to notify the kernel that we're ready.\n",
              "        channel.send({})\n",
              "        if (message.buffers) {\n",
              "          for (const buffer of message.buffers) {\n",
              "            buffers.push(buffer);\n",
              "            downloaded += buffer.byteLength;\n",
              "            progress.value = downloaded;\n",
              "          }\n",
              "        }\n",
              "      }\n",
              "      const blob = new Blob(buffers, {type: 'application/binary'});\n",
              "      const a = document.createElement('a');\n",
              "      a.href = window.URL.createObjectURL(blob);\n",
              "      a.download = filename;\n",
              "      div.appendChild(a);\n",
              "      a.click();\n",
              "      div.remove();\n",
              "    }\n",
              "  "
            ]
          },
          "metadata": {}
        },
        {
          "output_type": "display_data",
          "data": {
            "text/plain": [
              "<IPython.core.display.Javascript object>"
            ],
            "application/javascript": [
              "download(\"download_efef1eb1-cb6a-4d29-84a8-bc35dfeee402\", \"meta.tsv\", 13264)"
            ]
          },
          "metadata": {}
        }
      ]
    }
  ]
}