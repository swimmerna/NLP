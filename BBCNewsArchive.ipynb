{
  "nbformat": 4,
  "nbformat_minor": 0,
  "metadata": {
    "colab": {
      "provenance": []
    },
    "kernelspec": {
      "name": "python3",
      "display_name": "Python 3"
    },
    "language_info": {
      "name": "python"
    }
  },
  "cells": [
    {
      "cell_type": "code",
      "source": [
        "NUM_WORDS = 1000\n",
        "EMBEDDING_DIM = 16\n",
        "MAXLEN = 120\n",
        "PADDING = 'post'\n",
        "OOV_TOKEN = \"<OOV>\"\n",
        "TRAINING_SPLIT = .8"
      ],
      "metadata": {
        "id": "RMmJNbQpB3i6"
      },
      "execution_count": 117,
      "outputs": []
    },
    {
      "cell_type": "code",
      "source": [
        "setences = []\n",
        "labels= []\n"
      ],
      "metadata": {
        "id": "8TXK2v_Ylcxr"
      },
      "execution_count": 52,
      "outputs": []
    },
    {
      "cell_type": "code",
      "source": [
        "def remove_stopwords(sentence):\n",
        "  stopwords = [\"a\", \"about\", \"above\", \"after\", \"again\", \"against\", \"all\", \"am\", \"an\", \"and\", \"any\", \"are\", \"as\", \"at\", \"be\",\n",
        "               \"because\", \"been\", \"before\", \"being\", \"below\", \"between\", \"both\", \"but\", \"by\", \"could\", \"did\", \"do\", \"does\",\n",
        "               \"doing\", \"down\", \"during\", \"each\", \"few\", \"for\", \"from\", \"further\", \"had\", \"has\", \"have\", \"having\", \"he\", \"he'd\",\n",
        "               \"he'll\", \"he's\", \"her\", \"here\", \"here's\", \"hers\", \"herself\", \"him\", \"himself\", \"his\", \"how\", \"how's\", \"i\", \"i'd\",\n",
        "               \"i'll\", \"i'm\", \"i've\", \"if\", \"in\", \"into\", \"is\", \"it\", \"it's\", \"its\", \"itself\", \"let's\", \"me\", \"more\", \"most\",\n",
        "               \"my\", \"myself\", \"nor\", \"of\", \"on\", \"once\", \"only\", \"or\", \"other\", \"ought\", \"our\", \"ours\", \"ourselves\", \"out\",\n",
        "               \"over\", \"own\", \"same\", \"she\", \"she'd\", \"she'll\", \"she's\", \"should\", \"so\", \"some\", \"such\", \"than\", \"that\",\n",
        "               \"that's\", \"the\", \"their\", \"theirs\", \"them\", \"themselves\", \"then\", \"there\", \"there's\", \"these\", \"they\", \"they'd\",\n",
        "               \"they'll\", \"they're\", \"they've\", \"this\", \"those\", \"through\", \"to\", \"too\", \"under\", \"until\", \"up\", \"very\", \"was\",\n",
        "               \"we\", \"we'd\", \"we'll\", \"we're\", \"we've\", \"were\", \"what\", \"what's\", \"when\", \"when's\", \"where\", \"where's\", \"which\",\n",
        "               \"while\", \"who\", \"who's\", \"whom\", \"why\", \"why's\", \"with\", \"would\", \"you\", \"you'd\", \"you'll\", \"you're\", \"you've\",\n",
        "               \"your\", \"yours\", \"yourself\", \"yourselves\" ]\n",
        "  sentence = sentence.lower()\n",
        "  words = sentence.split()\n",
        "  no_stop_words = [word for word in words if word not in stopwords]\n",
        "  sentence = \" \".join(no_stop_words)\n",
        "  return sentence\n",
        "\n"
      ],
      "metadata": {
        "id": "-EoyxNsUHu6-"
      },
      "execution_count": 139,
      "outputs": []
    },
    {
      "cell_type": "code",
      "source": [
        "import csv\n",
        "with open('BBC News Train.csv') as file:\n",
        "  reader = csv.DictReader(file)\n",
        "  next(reader)\n",
        "  for row in reader:\n",
        "    sentence = row['Text']\n",
        "    setences.append(remove_stopwords(sentence))\n",
        "    labels.append(row['Category'])\n"
      ],
      "metadata": {
        "id": "QjLJNnpElqEq"
      },
      "execution_count": 140,
      "outputs": []
    },
    {
      "cell_type": "code",
      "source": [
        "split = int(len(setences) * TRAINING_SPLIT)\n",
        "\n",
        "train_sentences = setences[:split]\n",
        "test_sentences = setences[split:]\n",
        "train_labels = labels[:split]\n",
        "test_labels = labels[split:]\n"
      ],
      "metadata": {
        "id": "rEdOExwlmaLK"
      },
      "execution_count": 141,
      "outputs": []
    },
    {
      "cell_type": "code",
      "source": [
        "print('{} for training {} for testing'.format(len(train_sentences), len(test_sentences)))"
      ],
      "metadata": {
        "colab": {
          "base_uri": "https://localhost:8080/"
        },
        "id": "NKeomHo94rOu",
        "outputId": "06b394d3-0444-414a-f49e-487330665464"
      },
      "execution_count": 142,
      "outputs": [
        {
          "output_type": "stream",
          "name": "stdout",
          "text": [
            "4764 for training 1192 for testing\n"
          ]
        }
      ]
    },
    {
      "cell_type": "code",
      "source": [
        "from os import truncate\n",
        "import tensorflow as tf\n",
        "import numpy as np\n",
        "from tensorflow.keras.preprocessing.text import Tokenizer\n",
        "from tensorflow.keras.preprocessing.sequence import pad_sequences"
      ],
      "metadata": {
        "id": "pKj07Ni8nAnf"
      },
      "execution_count": 143,
      "outputs": []
    },
    {
      "cell_type": "code",
      "source": [
        "def fit_tokenizer(train_sentences, num_words, oov_token):\n",
        "  tokenizer = Tokenizer(num_words= num_words, oov_token= oov_token)\n",
        "  tokenizer.fit_on_texts(train_sentences)\n",
        "  return tokenizer"
      ],
      "metadata": {
        "id": "nnOz_sA-501P"
      },
      "execution_count": 144,
      "outputs": []
    },
    {
      "cell_type": "code",
      "source": [
        "def seq_and_pad(sentences, tokenizer, padding, maxlen):\n",
        "  sequences = tokenizer.texts_to_sequences(sentences)\n",
        "  padded = pad_sequences(sequences, maxlen=maxlen, padding_type=padding)"
      ],
      "metadata": {
        "id": "j5ufmD2x5aEM"
      },
      "execution_count": 145,
      "outputs": []
    },
    {
      "cell_type": "code",
      "source": [
        "tokenizer = fit_tokenizer(train_sentences, NUM_WORDS, OOV_TOKEN)\n",
        "word_index = tokenizer.word_index\n",
        "print(f\"Vocabulary contains {len(word_index)} words\\n\")\n",
        "print(\"<OOV> token included in vocabulary\" if \"<OOV>\" in word_index else \"<OOV> token NOT included in vocabulary\")"
      ],
      "metadata": {
        "colab": {
          "base_uri": "https://localhost:8080/"
        },
        "id": "yaLvSip66ork",
        "outputId": "734edff5-aea2-4aa9-f05c-2cb9073233b9"
      },
      "execution_count": 146,
      "outputs": [
        {
          "output_type": "stream",
          "name": "stdout",
          "text": [
            "Vocabulary contains 24981 words\n",
            "\n",
            "<OOV> token included in vocabulary\n"
          ]
        }
      ]
    },
    {
      "cell_type": "code",
      "source": [
        "def sequence_and_pad(sentences, tokenizer, padding, maxlen):\n",
        "  sequences = tokenizer.texts_to_sequences(sentences)\n",
        "  padded_sequences  = pad_sequences(sequences, maxlen=maxlen, padding=padding)\n",
        "  return padded_sequences"
      ],
      "metadata": {
        "id": "fRWTpyiR7Tqm"
      },
      "execution_count": 147,
      "outputs": []
    },
    {
      "cell_type": "code",
      "source": [
        "train_padded_seq = sequence_and_pad(train_sentences, tokenizer, PADDING, MAXLEN)\n",
        "test_padded_seq = sequence_and_pad(test_sentences, tokenizer, PADDING, MAXLEN)"
      ],
      "metadata": {
        "id": "qeOaMyVB8Fux"
      },
      "execution_count": 148,
      "outputs": []
    },
    {
      "cell_type": "code",
      "source": [
        "def tokenize_labels(all_labels, split_labels):\n",
        "  label_tokenzier = Tokenizer()\n",
        "  label_tokenzier.fit_on_texts(all_labels)\n",
        "  label_seq = label_tokenzier.texts_to_sequences(split_labels)\n",
        "  #keras' tokenizer yields values that start at 1 rather than 0.this will yeild a problem when training\n",
        "  #since keras usually expects that labels to start at 0.\n",
        "  label_seq_np = np.array(label_seq)-1\n",
        "  return label_seq_np\n"
      ],
      "metadata": {
        "id": "JbPxFUTt-LU4"
      },
      "execution_count": 149,
      "outputs": []
    },
    {
      "cell_type": "code",
      "source": [
        "train_label_seq = tokenize_labels(labels, train_labels)\n",
        "test_label_seq = tokenize_labels(labels, test_labels)"
      ],
      "metadata": {
        "id": "GQUeR69Hrr9-"
      },
      "execution_count": 150,
      "outputs": []
    },
    {
      "cell_type": "code",
      "source": [
        "print(f\"First 5 labels of the training set should look like this:\\n{train_label_seq[:5]}\\n\")\n",
        "print(f\"First 5 labels of the validation set should look like this:\\n{test_label_seq[:5]}\\n\")\n",
        "print(f\"Tokenized labels of the training set have shape: {train_label_seq.shape}\\n\")\n",
        "print(f\"Tokenized labels of the validation set have shape: {test_label_seq.shape}\\n\")"
      ],
      "metadata": {
        "colab": {
          "base_uri": "https://localhost:8080/"
        },
        "id": "DnOSxo8fAkhG",
        "outputId": "6598119b-7319-4bd2-edc0-817a0a95ef5c"
      },
      "execution_count": 151,
      "outputs": [
        {
          "output_type": "stream",
          "name": "stdout",
          "text": [
            "First 5 labels of the training set should look like this:\n",
            "[[1]\n",
            " [1]\n",
            " [4]\n",
            " [1]\n",
            " [2]]\n",
            "\n",
            "First 5 labels of the validation set should look like this:\n",
            "[[4]\n",
            " [4]\n",
            " [1]\n",
            " [4]\n",
            " [1]]\n",
            "\n",
            "Tokenized labels of the training set have shape: (4764, 1)\n",
            "\n",
            "Tokenized labels of the validation set have shape: (1192, 1)\n",
            "\n"
          ]
        }
      ]
    },
    {
      "cell_type": "code",
      "source": [
        "model = tf.keras.models.Sequential([\n",
        "    tf.keras.layers.Embedding(NUM_WORDS, EMBEDDING_DIM, input_length=MAXLEN),\n",
        "    tf.keras.layers.GlobalAveragePooling1D(),\n",
        "    tf.keras.layers.Dense(24, activation='relu'),\n",
        "    tf.keras.layers.Dense(5, activation='softmax')\n",
        "])\n",
        "model.compile(loss='sparse_categorical_crossentropy', optimizer='adam', metrics=['accuracy'])"
      ],
      "metadata": {
        "id": "FurF8eERptw-"
      },
      "execution_count": 152,
      "outputs": []
    },
    {
      "cell_type": "code",
      "source": [
        "epochs=20\n",
        "history = model.fit(train_padded_seq, train_label_seq, epochs=epochs, validation_data=(test_padded_seq, test_label_seq))"
      ],
      "metadata": {
        "colab": {
          "base_uri": "https://localhost:8080/"
        },
        "id": "arRuODiYqj0_",
        "outputId": "282462b2-c871-4bd6-e5d0-f392a15582e5"
      },
      "execution_count": 153,
      "outputs": [
        {
          "output_type": "stream",
          "name": "stdout",
          "text": [
            "Epoch 1/20\n",
            "149/149 [==============================] - 1s 4ms/step - loss: 1.5648 - accuracy: 0.4177 - val_loss: 1.4610 - val_accuracy: 0.5268\n",
            "Epoch 2/20\n",
            "149/149 [==============================] - 1s 4ms/step - loss: 1.2237 - accuracy: 0.7204 - val_loss: 0.9262 - val_accuracy: 0.8221\n",
            "Epoch 3/20\n",
            "149/149 [==============================] - 1s 5ms/step - loss: 0.7763 - accuracy: 0.8363 - val_loss: 0.5577 - val_accuracy: 0.8977\n",
            "Epoch 4/20\n",
            "149/149 [==============================] - 1s 7ms/step - loss: 0.5029 - accuracy: 0.8963 - val_loss: 0.3371 - val_accuracy: 0.9320\n",
            "Epoch 5/20\n",
            "149/149 [==============================] - 1s 3ms/step - loss: 0.3343 - accuracy: 0.9301 - val_loss: 0.2200 - val_accuracy: 0.9581\n",
            "Epoch 6/20\n",
            "149/149 [==============================] - 0s 3ms/step - loss: 0.2337 - accuracy: 0.9530 - val_loss: 0.1613 - val_accuracy: 0.9656\n",
            "Epoch 7/20\n",
            "149/149 [==============================] - 0s 3ms/step - loss: 0.1707 - accuracy: 0.9683 - val_loss: 0.1310 - val_accuracy: 0.9690\n",
            "Epoch 8/20\n",
            "149/149 [==============================] - 0s 3ms/step - loss: 0.1281 - accuracy: 0.9788 - val_loss: 0.1057 - val_accuracy: 0.9723\n",
            "Epoch 9/20\n",
            "149/149 [==============================] - 0s 3ms/step - loss: 0.0981 - accuracy: 0.9855 - val_loss: 0.0934 - val_accuracy: 0.9757\n",
            "Epoch 10/20\n",
            "149/149 [==============================] - 0s 3ms/step - loss: 0.0752 - accuracy: 0.9916 - val_loss: 0.0757 - val_accuracy: 0.9748\n",
            "Epoch 11/20\n",
            "149/149 [==============================] - 0s 3ms/step - loss: 0.0583 - accuracy: 0.9954 - val_loss: 0.0682 - val_accuracy: 0.9765\n",
            "Epoch 12/20\n",
            "149/149 [==============================] - 0s 3ms/step - loss: 0.0450 - accuracy: 0.9975 - val_loss: 0.0629 - val_accuracy: 0.9799\n",
            "Epoch 13/20\n",
            "149/149 [==============================] - 0s 3ms/step - loss: 0.0353 - accuracy: 0.9987 - val_loss: 0.0575 - val_accuracy: 0.9799\n",
            "Epoch 14/20\n",
            "149/149 [==============================] - 0s 3ms/step - loss: 0.0278 - accuracy: 0.9996 - val_loss: 0.0551 - val_accuracy: 0.9815\n",
            "Epoch 15/20\n",
            "149/149 [==============================] - 0s 3ms/step - loss: 0.0223 - accuracy: 1.0000 - val_loss: 0.0509 - val_accuracy: 0.9849\n",
            "Epoch 16/20\n",
            "149/149 [==============================] - 0s 3ms/step - loss: 0.0180 - accuracy: 1.0000 - val_loss: 0.0484 - val_accuracy: 0.9874\n",
            "Epoch 17/20\n",
            "149/149 [==============================] - 0s 3ms/step - loss: 0.0146 - accuracy: 1.0000 - val_loss: 0.0469 - val_accuracy: 0.9874\n",
            "Epoch 18/20\n",
            "149/149 [==============================] - 0s 3ms/step - loss: 0.0121 - accuracy: 1.0000 - val_loss: 0.0452 - val_accuracy: 0.9883\n",
            "Epoch 19/20\n",
            "149/149 [==============================] - 0s 3ms/step - loss: 0.0101 - accuracy: 1.0000 - val_loss: 0.0447 - val_accuracy: 0.9891\n",
            "Epoch 20/20\n",
            "149/149 [==============================] - 0s 3ms/step - loss: 0.0085 - accuracy: 1.0000 - val_loss: 0.0437 - val_accuracy: 0.9899\n"
          ]
        }
      ]
    },
    {
      "cell_type": "code",
      "source": [
        "import matplotlib.pyplot as plt\n",
        "\n",
        "plt, axs = plt.subplots(2)\n",
        "axs[0].plot(history.history['loss'], label='loss')\n",
        "axs[0].plot(history.history['val_loss'], label='validation loss')\n",
        "axs[0].legend()\n",
        "axs[1].plot(history.history['accuracy'], label='accuracy')\n",
        "axs[1].plot(history.history['val_accuracy'], label='validation accuracy')\n",
        "axs[1].legend()\n"
      ],
      "metadata": {
        "colab": {
          "base_uri": "https://localhost:8080/",
          "height": 448
        },
        "id": "42JgzcnMGjzp",
        "outputId": "0833ebff-bdc1-4076-d2b2-e2f82045ace4"
      },
      "execution_count": 154,
      "outputs": [
        {
          "output_type": "execute_result",
          "data": {
            "text/plain": [
              "<matplotlib.legend.Legend at 0x7805c73a3ee0>"
            ]
          },
          "metadata": {},
          "execution_count": 154
        },
        {
          "output_type": "display_data",
          "data": {
            "text/plain": [
              "<Figure size 640x480 with 2 Axes>"
            ],
            "image/png": "[encoded data removed]"
          },
          "metadata": {}
        }
      ]
    }
  ]
}